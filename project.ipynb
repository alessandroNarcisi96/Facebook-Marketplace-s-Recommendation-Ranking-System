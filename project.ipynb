{
 "cells": [
  {
   "cell_type": "code",
   "execution_count": 15,
   "metadata": {},
   "outputs": [],
   "source": [
    "import pandas as pd\n",
    "import clean_images\n",
    "import data_cleaning\n",
    "from sklearn.model_selection import train_test_split\n",
    "import numpy as np\n",
    "from numpy import asarray\n",
    "import os\n",
    "import torch\n",
    "import torch.nn as nn\n",
    "import image_text_dataset\n",
    "import tensorboard_manager\n",
    "import combined_model\n",
    "from tqdm import tqdm"
   ]
  },
  {
   "cell_type": "code",
   "execution_count": 16,
   "metadata": {},
   "outputs": [],
   "source": [
    "products = pd.read_csv(\"data/Products.csv\",lineterminator='\\n')\n",
    "images = pd.read_csv(\"data/Images.csv\",lineterminator='\\n')"
   ]
  },
  {
   "cell_type": "code",
   "execution_count": 17,
   "metadata": {},
   "outputs": [
    {
     "data": {
      "text/html": [
       "<div>\n",
       "<style scoped>\n",
       "    .dataframe tbody tr th:only-of-type {\n",
       "        vertical-align: middle;\n",
       "    }\n",
       "\n",
       "    .dataframe tbody tr th {\n",
       "        vertical-align: top;\n",
       "    }\n",
       "\n",
       "    .dataframe thead th {\n",
       "        text-align: right;\n",
       "    }\n",
       "</style>\n",
       "<table border=\"1\" class=\"dataframe\">\n",
       "  <thead>\n",
       "    <tr style=\"text-align: right;\">\n",
       "      <th></th>\n",
       "      <th>Unnamed: 0</th>\n",
       "      <th>id</th>\n",
       "      <th>product_name</th>\n",
       "      <th>category</th>\n",
       "      <th>product_description</th>\n",
       "      <th>price</th>\n",
       "      <th>location</th>\n",
       "      <th>url</th>\n",
       "      <th>page_id</th>\n",
       "      <th>create_time</th>\n",
       "    </tr>\n",
       "  </thead>\n",
       "  <tbody>\n",
       "    <tr>\n",
       "      <th>0</th>\n",
       "      <td>0</td>\n",
       "      <td>243809c0-9cfc-4486-ad12-3b7a16605ba9</td>\n",
       "      <td>Mirror wall art | in Wokingham, Berkshire | Gu...</td>\n",
       "      <td>Home &amp; Garden / Dining, Living Room Furniture ...</td>\n",
       "      <td>Mirror wall art. Posted by Nisha in Dining, Li...</td>\n",
       "      <td>£5.00</td>\n",
       "      <td>Wokingham, Berkshire</td>\n",
       "      <td>https://www.gumtree.com/p/mirrors-clocks-ornam...</td>\n",
       "      <td>1426704584</td>\n",
       "      <td>2022-02-26</td>\n",
       "    </tr>\n",
       "    <tr>\n",
       "      <th>1</th>\n",
       "      <td>1</td>\n",
       "      <td>1c58d3f9-8b93-47ea-9415-204fcc2a22e6</td>\n",
       "      <td>Stainless Steel Food Steamer | in Inverness, H...</td>\n",
       "      <td>Home &amp; Garden / Other Household Goods</td>\n",
       "      <td>Morphy Richard’s (model no 48755)Stainless ste...</td>\n",
       "      <td>£20.00</td>\n",
       "      <td>Inverness, Highland</td>\n",
       "      <td>https://www.gumtree.com/p/other-household-good...</td>\n",
       "      <td>1426704579</td>\n",
       "      <td>2022-02-26</td>\n",
       "    </tr>\n",
       "    <tr>\n",
       "      <th>2</th>\n",
       "      <td>2</td>\n",
       "      <td>860673f1-57f6-47ba-8d2f-13f9e05b8f9a</td>\n",
       "      <td>Sun loungers | in Skegness, Lincolnshire | Gum...</td>\n",
       "      <td>Home &amp; Garden / Garden &amp; Patio / Outdoor Setti...</td>\n",
       "      <td>I have 2 of these - collection only as I don’t...</td>\n",
       "      <td>£20.00</td>\n",
       "      <td>Skegness, Lincolnshire</td>\n",
       "      <td>https://www.gumtree.com/p/outdoor-settings-fur...</td>\n",
       "      <td>1426704576</td>\n",
       "      <td>2022-02-26</td>\n",
       "    </tr>\n",
       "    <tr>\n",
       "      <th>3</th>\n",
       "      <td>3</td>\n",
       "      <td>59948726-29be-4b35-ade5-bb2fd7331856</td>\n",
       "      <td>Coffee side table from Ammunition ammo box hai...</td>\n",
       "      <td>Home &amp; Garden / Dining, Living Room Furniture ...</td>\n",
       "      <td>Great reclaimed army ammunition box used as co...</td>\n",
       "      <td>£115.00</td>\n",
       "      <td>Radstock, Somerset</td>\n",
       "      <td>https://www.gumtree.com/p/other-dining-living-...</td>\n",
       "      <td>1426704575</td>\n",
       "      <td>2022-02-26</td>\n",
       "    </tr>\n",
       "    <tr>\n",
       "      <th>4</th>\n",
       "      <td>4</td>\n",
       "      <td>16dbc860-696e-4cda-93f6-4dd4926573fb</td>\n",
       "      <td>Modern Shannon Sofa for sale at low cost | in ...</td>\n",
       "      <td>Home &amp; Garden / Dining, Living Room Furniture ...</td>\n",
       "      <td>New Design Shannon Corner sofa  5 Seater Avail...</td>\n",
       "      <td>£450.00</td>\n",
       "      <td>Delph, Manchester</td>\n",
       "      <td>https://www.gumtree.com/p/sofas/modern-shannon...</td>\n",
       "      <td>1426704570</td>\n",
       "      <td>2022-02-26</td>\n",
       "    </tr>\n",
       "  </tbody>\n",
       "</table>\n",
       "</div>"
      ],
      "text/plain": [
       "   Unnamed: 0                                    id  \\\n",
       "0           0  243809c0-9cfc-4486-ad12-3b7a16605ba9   \n",
       "1           1  1c58d3f9-8b93-47ea-9415-204fcc2a22e6   \n",
       "2           2  860673f1-57f6-47ba-8d2f-13f9e05b8f9a   \n",
       "3           3  59948726-29be-4b35-ade5-bb2fd7331856   \n",
       "4           4  16dbc860-696e-4cda-93f6-4dd4926573fb   \n",
       "\n",
       "                                        product_name  \\\n",
       "0  Mirror wall art | in Wokingham, Berkshire | Gu...   \n",
       "1  Stainless Steel Food Steamer | in Inverness, H...   \n",
       "2  Sun loungers | in Skegness, Lincolnshire | Gum...   \n",
       "3  Coffee side table from Ammunition ammo box hai...   \n",
       "4  Modern Shannon Sofa for sale at low cost | in ...   \n",
       "\n",
       "                                            category  \\\n",
       "0  Home & Garden / Dining, Living Room Furniture ...   \n",
       "1              Home & Garden / Other Household Goods   \n",
       "2  Home & Garden / Garden & Patio / Outdoor Setti...   \n",
       "3  Home & Garden / Dining, Living Room Furniture ...   \n",
       "4  Home & Garden / Dining, Living Room Furniture ...   \n",
       "\n",
       "                                 product_description    price  \\\n",
       "0  Mirror wall art. Posted by Nisha in Dining, Li...    £5.00   \n",
       "1  Morphy Richard’s (model no 48755)Stainless ste...   £20.00   \n",
       "2  I have 2 of these - collection only as I don’t...   £20.00   \n",
       "3  Great reclaimed army ammunition box used as co...  £115.00   \n",
       "4  New Design Shannon Corner sofa  5 Seater Avail...  £450.00   \n",
       "\n",
       "                 location                                                url  \\\n",
       "0    Wokingham, Berkshire  https://www.gumtree.com/p/mirrors-clocks-ornam...   \n",
       "1     Inverness, Highland  https://www.gumtree.com/p/other-household-good...   \n",
       "2  Skegness, Lincolnshire  https://www.gumtree.com/p/outdoor-settings-fur...   \n",
       "3      Radstock, Somerset  https://www.gumtree.com/p/other-dining-living-...   \n",
       "4       Delph, Manchester  https://www.gumtree.com/p/sofas/modern-shannon...   \n",
       "\n",
       "      page_id create_time  \n",
       "0  1426704584  2022-02-26  \n",
       "1  1426704579  2022-02-26  \n",
       "2  1426704576  2022-02-26  \n",
       "3  1426704575  2022-02-26  \n",
       "4  1426704570  2022-02-26  "
      ]
     },
     "execution_count": 17,
     "metadata": {},
     "output_type": "execute_result"
    }
   ],
   "source": [
    "products.head()"
   ]
  },
  {
   "cell_type": "code",
   "execution_count": 18,
   "metadata": {},
   "outputs": [],
   "source": [
    "products  = products.merge(images, how='inner',left_on='id',right_on='product_id')\n",
    "products=products.rename(columns={\"id_y\":\"image_id\"})\n",
    "products=products.rename(columns={\"id_x\":\"id\"})\n",
    "products.drop('product_id',inplace=True,axis = 1)\n",
    "products.drop('Unnamed: 0_y',inplace=True,axis = 1)\n",
    "products.drop('url',inplace=True,axis = 1)\n",
    "products.drop('page_id',inplace=True,axis = 1)\n",
    "products.drop('create_time',inplace=True,axis = 1)\n",
    "products.drop('bucket_link',inplace=True,axis = 1)\n",
    "products.drop('image_ref',inplace=True,axis = 1)\n",
    "products.drop('create_time\\r',inplace=True,axis = 1)"
   ]
  },
  {
   "cell_type": "code",
   "execution_count": 19,
   "metadata": {},
   "outputs": [],
   "source": [
    "products[\"product_name\"] = products[\"product_name\"].apply(lambda x: data_cleaning.clean_word(x)) \n",
    "products[\"product_description\"] = products[\"product_description\"].apply(lambda x: data_cleaning.clean_word(x)) \n",
    "products[\"location\"] = products[\"location\"].apply(lambda x: x.split(\",\")[1] if (len(x.split(\",\")) ==2) else x) "
   ]
  },
  {
   "cell_type": "code",
   "execution_count": 20,
   "metadata": {},
   "outputs": [],
   "source": [
    "cat= [ind for ind, x in enumerate(products[\"category\"].unique())]\n",
    "products[\"category\"] = products[\"category\"].apply(lambda x: data_cleaning.create_categories(x))\n",
    "catToNumb = dict(zip(products[\"category\"].unique(),cat ))\n",
    "products[\"category\"] = products[\"category\"].apply(lambda x: data_cleaning.convert_cat_to_number(x,catToNumb))"
   ]
  },
  {
   "cell_type": "code",
   "execution_count": 21,
   "metadata": {},
   "outputs": [],
   "source": [
    "num_categories = len(products.category.unique())"
   ]
  },
  {
   "cell_type": "code",
   "execution_count": 22,
   "metadata": {},
   "outputs": [],
   "source": [
    "products[\"price\"] = data_cleaning.clean_price(products[\"price\"])"
   ]
  },
  {
   "cell_type": "code",
   "execution_count": 23,
   "metadata": {},
   "outputs": [],
   "source": [
    "training,validation,test = image_text_dataset.split_train_test(products)\n",
    "#clean_images.clean(\"data/images/\",\"data/resized_images/\",training)\n",
    "#clean_images.clean(\"data/images/\",\"data/resized_images/\",validation)"
   ]
  },
  {
   "cell_type": "code",
   "execution_count": 24,
   "metadata": {},
   "outputs": [
    {
     "name": "stderr",
     "output_type": "stream",
     "text": [
      "Some weights of the model checkpoint at bert-base-uncased were not used when initializing BertModel: ['cls.seq_relationship.weight', 'cls.predictions.bias', 'cls.predictions.transform.LayerNorm.weight', 'cls.predictions.transform.dense.weight', 'cls.predictions.decoder.weight', 'cls.predictions.transform.LayerNorm.bias', 'cls.predictions.transform.dense.bias', 'cls.seq_relationship.bias']\n",
      "- This IS expected if you are initializing BertModel from the checkpoint of a model trained on another task or with another architecture (e.g. initializing a BertForSequenceClassification model from a BertForPreTraining model).\n",
      "- This IS NOT expected if you are initializing BertModel from the checkpoint of a model that you expect to be exactly identical (initializing a BertForSequenceClassification model from a BertForSequenceClassification model).\n"
     ]
    },
    {
     "name": "stdout",
     "output_type": "stream",
     "text": [
      "fatto\n"
     ]
    },
    {
     "name": "stderr",
     "output_type": "stream",
     "text": [
      "Some weights of the model checkpoint at bert-base-uncased were not used when initializing BertModel: ['cls.seq_relationship.weight', 'cls.predictions.bias', 'cls.predictions.transform.LayerNorm.weight', 'cls.predictions.transform.dense.weight', 'cls.predictions.decoder.weight', 'cls.predictions.transform.LayerNorm.bias', 'cls.predictions.transform.dense.bias', 'cls.seq_relationship.bias']\n",
      "- This IS expected if you are initializing BertModel from the checkpoint of a model trained on another task or with another architecture (e.g. initializing a BertForSequenceClassification model from a BertForPreTraining model).\n",
      "- This IS NOT expected if you are initializing BertModel from the checkpoint of a model that you expect to be exactly identical (initializing a BertForSequenceClassification model from a BertForSequenceClassification model).\n"
     ]
    },
    {
     "name": "stdout",
     "output_type": "stream",
     "text": [
      "fatto\n"
     ]
    }
   ],
   "source": [
    "training_dataset = image_text_dataset.ImageTextDataset(ds=training)\n",
    "validation_dataset = image_text_dataset.ImageTextDataset(ds=validation)"
   ]
  },
  {
   "cell_type": "code",
   "execution_count": 25,
   "metadata": {},
   "outputs": [],
   "source": [
    "training_dataloader = torch.utils.data.DataLoader(training_dataset, batch_size=12,\n",
    "                                             shuffle=True, num_workers=1)\n",
    "\n",
    "validation_dataloader = torch.utils.data.DataLoader(validation_dataset, batch_size=12,\n",
    "                                             shuffle=True, num_workers=0)"
   ]
  },
  {
   "cell_type": "code",
   "execution_count": 26,
   "metadata": {},
   "outputs": [
    {
     "name": "stderr",
     "output_type": "stream",
     "text": [
      "Using cache found in C:\\Users\\alnar/.cache\\torch\\hub\\NVIDIA_DeepLearningExamples_torchhub\n"
     ]
    }
   ],
   "source": [
    "combined = combined_model.CombinedModel(ngpu=1, input_size=768, num_classes=training_dataset.num_classes)"
   ]
  },
  {
   "cell_type": "code",
   "execution_count": 27,
   "metadata": {},
   "outputs": [
    {
     "name": "stderr",
     "output_type": "stream",
     "text": [
      "Epoch 1/5 Acc = 0.90: 100%|██████████| 5/5 [00:37<00:00,  7.48s/it]\n",
      "Epoch 2/5 Acc = 0.90: 100%|██████████| 5/5 [00:41<00:00,  8.28s/it]\n",
      "Epoch 3/5 Acc = 0.90: 100%|██████████| 5/5 [00:54<00:00, 10.87s/it]\n",
      "Epoch 4/5 Acc = 0.90: 100%|██████████| 5/5 [01:36<00:00, 19.28s/it]\n",
      "Epoch 5/5 Acc = 0.90: 100%|██████████| 5/5 [02:02<00:00, 24.59s/it]\n"
     ]
    }
   ],
   "source": [
    "device = torch.device(\"cuda\") if torch.cuda.is_available() else torch.device(\"cpu\")\n",
    "combined.to(device)\n",
    "criterion = nn.CrossEntropyLoss()\n",
    "optimizer = torch.optim.Adam(combined.parameters(), lr=0.001)\n",
    "epochs = 5\n",
    "for epoch in range(epochs):\n",
    "    hist_acc = []\n",
    "    hist_loss = []\n",
    "    pbar = tqdm(enumerate(training_dataloader), total=len(training_dataloader))\n",
    "    for i, (image_features, text_features, labels) in pbar:\n",
    "        image_features = image_features.to(device)\n",
    "        text_features = text_features.to(device)\n",
    "        labels = labels.to(device)\n",
    "        optimizer.zero_grad()\n",
    "        outputs = combined(image_features, text_features)\n",
    "        loss = criterion(outputs, labels)\n",
    "        loss.backward()\n",
    "        hist_acc.append(torch.mean((torch.argmax(outputs, dim=1) == labels).float()).item())\n",
    "        hist_loss.append(loss.item())\n",
    "        optimizer.step()\n",
    "        pbar.set_description(f'Epoch {epoch + 1}/{epochs} Loss: {loss.item():.4f} Acc = {round(torch.sum(torch.argmax(outputs, dim=1) == labels).item()/len(labels), 2)} Total_acc = {round(np.mean(hist_acc), 2)}')\n",
    "#torch.save(combined.state_dict(), 'combined_model.pt')"
   ]
  },
  {
   "cell_type": "code",
   "execution_count": 28,
   "metadata": {},
   "outputs": [
    {
     "name": "stderr",
     "output_type": "stream",
     "text": [
      "Epoch 1/5 Acc = 0.85: 100%|██████████| 5/5 [00:34<00:00,  6.91s/it]\n",
      "Epoch 2/5 Acc = 0.85: 100%|██████████| 5/5 [00:32<00:00,  6.48s/it]\n",
      "Epoch 3/5 Acc = 0.85: 100%|██████████| 5/5 [00:19<00:00,  3.98s/it]\n",
      "Epoch 4/5 Acc = 0.85: 100%|██████████| 5/5 [00:18<00:00,  3.64s/it]\n",
      "Epoch 5/5 Acc = 0.85: 100%|██████████| 5/5 [00:20<00:00,  4.13s/it]\n"
     ]
    }
   ],
   "source": [
    "device = torch.device(\"cuda\") if torch.cuda.is_available() else torch.device(\"cpu\")\n",
    "combined.to(device)\n",
    "criterion = nn.CrossEntropyLoss()\n",
    "epochs = 5\n",
    "for epoch in range(epochs):\n",
    "    hist_acc = []\n",
    "    hist_loss = []\n",
    "    pbar = tqdm(enumerate(validation_dataloader), total=len(validation_dataloader))\n",
    "    for i, (image_features, text_features, labels) in pbar:\n",
    "        image_features = image_features.to(device)\n",
    "        text_features = text_features.to(device)\n",
    "        #print(max(labels))\n",
    "        #print(min(labels))\n",
    "        labels = labels.to(device)\n",
    "        outputs = combined(image_features, text_features)\n",
    "        loss = criterion(outputs, labels)\n",
    "        hist_acc.append(torch.mean((torch.argmax(outputs, dim=1) == labels).float()).item())\n",
    "        hist_loss.append(loss.item())\n",
    "        pbar.set_description(f'Epoch {epoch + 1}/{epochs} Loss: {loss.item():.4f} Acc = {round(torch.sum(torch.argmax(outputs, dim=1) == labels).item()/len(labels), 2)} Total_acc = {round(np.mean(hist_acc), 2)}')\n",
    "#torch.save(combined.state_dict(), 'combined_model.pt')"
   ]
  }
 ],
 "metadata": {
  "kernelspec": {
   "display_name": "Python 3.8.2 ('Plagiarism')",
   "language": "python",
   "name": "python3"
  },
  "language_info": {
   "codemirror_mode": {
    "name": "ipython",
    "version": 3
   },
   "file_extension": ".py",
   "mimetype": "text/x-python",
   "name": "python",
   "nbconvert_exporter": "python",
   "pygments_lexer": "ipython3",
   "version": "3.8.2"
  },
  "orig_nbformat": 4,
  "vscode": {
   "interpreter": {
    "hash": "ee014f76b2b029c209e6db79eff2bc4d130154aab2d0ee044a20aa85b191be09"
   }
  }
 },
 "nbformat": 4,
 "nbformat_minor": 2
}
